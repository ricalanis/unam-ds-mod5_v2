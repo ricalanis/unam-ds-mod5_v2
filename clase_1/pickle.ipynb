{
 "cells": [
  {
   "cell_type": "code",
   "execution_count": 1,
   "id": "41a569c5",
   "metadata": {},
   "outputs": [],
   "source": [
    "import pickle"
   ]
  },
  {
   "cell_type": "code",
   "execution_count": 4,
   "id": "105ef09a",
   "metadata": {},
   "outputs": [
    {
     "data": {
      "text/plain": [
       "0           0\n",
       "1           0\n",
       "2        1962\n",
       "3        1974\n",
       "4        1980\n",
       "         ... \n",
       "19927    1985\n",
       "19928    2001\n",
       "19929    2004\n",
       "19930    1991\n",
       "19931    1983\n",
       "Name: ANIO_NACIMIENTO, Length: 19932, dtype: int64"
      ]
     },
     "execution_count": 4,
     "metadata": {},
     "output_type": "execute_result"
    }
   ],
   "source": [
    "pickle.load(open('mm_df_pl.pickle', 'rb') )['ANIO_NACIMIENTO']"
   ]
  },
  {
   "cell_type": "code",
   "execution_count": null,
   "id": "d4cb6d23",
   "metadata": {},
   "outputs": [],
   "source": []
  }
 ],
 "metadata": {
  "kernelspec": {
   "display_name": "Python 3",
   "language": "python",
   "name": "python3"
  },
  "language_info": {
   "codemirror_mode": {
    "name": "ipython",
    "version": 3
   },
   "file_extension": ".py",
   "mimetype": "text/x-python",
   "name": "python",
   "nbconvert_exporter": "python",
   "pygments_lexer": "ipython3",
   "version": "3.7.3"
  }
 },
 "nbformat": 4,
 "nbformat_minor": 5
}
